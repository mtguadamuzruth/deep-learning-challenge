{
 "cells": [
  {
   "cell_type": "markdown",
   "metadata": {
    "id": "FEOKAxyEeeS5"
   },
   "source": [
    "## Preprocessing"
   ]
  },
  {
   "cell_type": "code",
   "execution_count": 1,
   "metadata": {
    "colab": {
     "base_uri": "https://localhost:8080/",
     "height": 452
    },
    "id": "aW_7MLnMeeS7",
    "outputId": "34af0dc3-44d2-41cf-f35e-de1292b423bb"
   },
   "outputs": [
    {
     "name": "stdout",
     "output_type": "stream",
     "text": [
      "Requirement already satisfied: tensorflow in /Users/travisruth/anaconda3/envs/dev/lib/python3.10/site-packages (2.15.0)\n",
      "Requirement already satisfied: tensorflow-macos==2.15.0 in /Users/travisruth/anaconda3/envs/dev/lib/python3.10/site-packages (from tensorflow) (2.15.0)\n",
      "Requirement already satisfied: absl-py>=1.0.0 in /Users/travisruth/anaconda3/envs/dev/lib/python3.10/site-packages (from tensorflow-macos==2.15.0->tensorflow) (2.0.0)\n",
      "Requirement already satisfied: astunparse>=1.6.0 in /Users/travisruth/anaconda3/envs/dev/lib/python3.10/site-packages (from tensorflow-macos==2.15.0->tensorflow) (1.6.3)\n",
      "Requirement already satisfied: flatbuffers>=23.5.26 in /Users/travisruth/anaconda3/envs/dev/lib/python3.10/site-packages (from tensorflow-macos==2.15.0->tensorflow) (23.5.26)\n",
      "Requirement already satisfied: gast!=0.5.0,!=0.5.1,!=0.5.2,>=0.2.1 in /Users/travisruth/anaconda3/envs/dev/lib/python3.10/site-packages (from tensorflow-macos==2.15.0->tensorflow) (0.5.4)\n",
      "Requirement already satisfied: google-pasta>=0.1.1 in /Users/travisruth/anaconda3/envs/dev/lib/python3.10/site-packages (from tensorflow-macos==2.15.0->tensorflow) (0.2.0)\n",
      "Requirement already satisfied: h5py>=2.9.0 in /Users/travisruth/anaconda3/envs/dev/lib/python3.10/site-packages (from tensorflow-macos==2.15.0->tensorflow) (3.7.0)\n",
      "Requirement already satisfied: libclang>=13.0.0 in /Users/travisruth/anaconda3/envs/dev/lib/python3.10/site-packages (from tensorflow-macos==2.15.0->tensorflow) (16.0.6)\n",
      "Requirement already satisfied: ml-dtypes~=0.2.0 in /Users/travisruth/anaconda3/envs/dev/lib/python3.10/site-packages (from tensorflow-macos==2.15.0->tensorflow) (0.2.0)\n",
      "Requirement already satisfied: numpy<2.0.0,>=1.23.5 in /Users/travisruth/anaconda3/envs/dev/lib/python3.10/site-packages (from tensorflow-macos==2.15.0->tensorflow) (1.24.3)\n",
      "Requirement already satisfied: opt-einsum>=2.3.2 in /Users/travisruth/anaconda3/envs/dev/lib/python3.10/site-packages (from tensorflow-macos==2.15.0->tensorflow) (3.3.0)\n",
      "Requirement already satisfied: packaging in /Users/travisruth/anaconda3/envs/dev/lib/python3.10/site-packages (from tensorflow-macos==2.15.0->tensorflow) (23.0)\n",
      "Requirement already satisfied: protobuf!=4.21.0,!=4.21.1,!=4.21.2,!=4.21.3,!=4.21.4,!=4.21.5,<5.0.0dev,>=3.20.3 in /Users/travisruth/anaconda3/envs/dev/lib/python3.10/site-packages (from tensorflow-macos==2.15.0->tensorflow) (4.23.4)\n",
      "Requirement already satisfied: setuptools in /Users/travisruth/anaconda3/envs/dev/lib/python3.10/site-packages (from tensorflow-macos==2.15.0->tensorflow) (67.8.0)\n",
      "Requirement already satisfied: six>=1.12.0 in /Users/travisruth/anaconda3/envs/dev/lib/python3.10/site-packages (from tensorflow-macos==2.15.0->tensorflow) (1.16.0)\n",
      "Requirement already satisfied: termcolor>=1.1.0 in /Users/travisruth/anaconda3/envs/dev/lib/python3.10/site-packages (from tensorflow-macos==2.15.0->tensorflow) (2.4.0)\n",
      "Requirement already satisfied: typing-extensions>=3.6.6 in /Users/travisruth/anaconda3/envs/dev/lib/python3.10/site-packages (from tensorflow-macos==2.15.0->tensorflow) (4.6.3)\n",
      "Requirement already satisfied: wrapt<1.15,>=1.11.0 in /Users/travisruth/anaconda3/envs/dev/lib/python3.10/site-packages (from tensorflow-macos==2.15.0->tensorflow) (1.14.1)\n",
      "Requirement already satisfied: tensorflow-io-gcs-filesystem>=0.23.1 in /Users/travisruth/anaconda3/envs/dev/lib/python3.10/site-packages (from tensorflow-macos==2.15.0->tensorflow) (0.34.0)\n",
      "Requirement already satisfied: grpcio<2.0,>=1.24.3 in /Users/travisruth/anaconda3/envs/dev/lib/python3.10/site-packages (from tensorflow-macos==2.15.0->tensorflow) (1.59.3)\n",
      "Requirement already satisfied: tensorboard<2.16,>=2.15 in /Users/travisruth/anaconda3/envs/dev/lib/python3.10/site-packages (from tensorflow-macos==2.15.0->tensorflow) (2.15.1)\n",
      "Requirement already satisfied: tensorflow-estimator<2.16,>=2.15.0 in /Users/travisruth/anaconda3/envs/dev/lib/python3.10/site-packages (from tensorflow-macos==2.15.0->tensorflow) (2.15.0)\n",
      "Requirement already satisfied: keras<2.16,>=2.15.0 in /Users/travisruth/anaconda3/envs/dev/lib/python3.10/site-packages (from tensorflow-macos==2.15.0->tensorflow) (2.15.0)\n",
      "Requirement already satisfied: wheel<1.0,>=0.23.0 in /Users/travisruth/anaconda3/envs/dev/lib/python3.10/site-packages (from astunparse>=1.6.0->tensorflow-macos==2.15.0->tensorflow) (0.38.4)\n",
      "Requirement already satisfied: google-auth<3,>=1.6.3 in /Users/travisruth/anaconda3/envs/dev/lib/python3.10/site-packages (from tensorboard<2.16,>=2.15->tensorflow-macos==2.15.0->tensorflow) (2.25.1)\n",
      "Requirement already satisfied: google-auth-oauthlib<2,>=0.5 in /Users/travisruth/anaconda3/envs/dev/lib/python3.10/site-packages (from tensorboard<2.16,>=2.15->tensorflow-macos==2.15.0->tensorflow) (1.1.0)\n",
      "Requirement already satisfied: markdown>=2.6.8 in /Users/travisruth/anaconda3/envs/dev/lib/python3.10/site-packages (from tensorboard<2.16,>=2.15->tensorflow-macos==2.15.0->tensorflow) (3.4.1)\n",
      "Requirement already satisfied: requests<3,>=2.21.0 in /Users/travisruth/anaconda3/envs/dev/lib/python3.10/site-packages (from tensorboard<2.16,>=2.15->tensorflow-macos==2.15.0->tensorflow) (2.29.0)\n",
      "Requirement already satisfied: tensorboard-data-server<0.8.0,>=0.7.0 in /Users/travisruth/anaconda3/envs/dev/lib/python3.10/site-packages (from tensorboard<2.16,>=2.15->tensorflow-macos==2.15.0->tensorflow) (0.7.2)\n",
      "Requirement already satisfied: werkzeug>=1.0.1 in /Users/travisruth/anaconda3/envs/dev/lib/python3.10/site-packages (from tensorboard<2.16,>=2.15->tensorflow-macos==2.15.0->tensorflow) (2.2.3)\n",
      "Requirement already satisfied: cachetools<6.0,>=2.0.0 in /Users/travisruth/anaconda3/envs/dev/lib/python3.10/site-packages (from google-auth<3,>=1.6.3->tensorboard<2.16,>=2.15->tensorflow-macos==2.15.0->tensorflow) (5.3.2)\n",
      "Requirement already satisfied: pyasn1-modules>=0.2.1 in /Users/travisruth/anaconda3/envs/dev/lib/python3.10/site-packages (from google-auth<3,>=1.6.3->tensorboard<2.16,>=2.15->tensorflow-macos==2.15.0->tensorflow) (0.2.8)\n",
      "Requirement already satisfied: rsa<5,>=3.1.4 in /Users/travisruth/anaconda3/envs/dev/lib/python3.10/site-packages (from google-auth<3,>=1.6.3->tensorboard<2.16,>=2.15->tensorflow-macos==2.15.0->tensorflow) (4.9)\n",
      "Requirement already satisfied: requests-oauthlib>=0.7.0 in /Users/travisruth/anaconda3/envs/dev/lib/python3.10/site-packages (from google-auth-oauthlib<2,>=0.5->tensorboard<2.16,>=2.15->tensorflow-macos==2.15.0->tensorflow) (1.3.1)\n",
      "Requirement already satisfied: charset-normalizer<4,>=2 in /Users/travisruth/anaconda3/envs/dev/lib/python3.10/site-packages (from requests<3,>=2.21.0->tensorboard<2.16,>=2.15->tensorflow-macos==2.15.0->tensorflow) (2.0.4)\n",
      "Requirement already satisfied: idna<4,>=2.5 in /Users/travisruth/anaconda3/envs/dev/lib/python3.10/site-packages (from requests<3,>=2.21.0->tensorboard<2.16,>=2.15->tensorflow-macos==2.15.0->tensorflow) (3.4)\n",
      "Requirement already satisfied: urllib3<1.27,>=1.21.1 in /Users/travisruth/anaconda3/envs/dev/lib/python3.10/site-packages (from requests<3,>=2.21.0->tensorboard<2.16,>=2.15->tensorflow-macos==2.15.0->tensorflow) (1.26.16)\n",
      "Requirement already satisfied: certifi>=2017.4.17 in /Users/travisruth/anaconda3/envs/dev/lib/python3.10/site-packages (from requests<3,>=2.21.0->tensorboard<2.16,>=2.15->tensorflow-macos==2.15.0->tensorflow) (2023.7.22)\n",
      "Requirement already satisfied: MarkupSafe>=2.1.1 in /Users/travisruth/anaconda3/envs/dev/lib/python3.10/site-packages (from werkzeug>=1.0.1->tensorboard<2.16,>=2.15->tensorflow-macos==2.15.0->tensorflow) (2.1.1)\n",
      "Requirement already satisfied: pyasn1<0.5.0,>=0.4.6 in /Users/travisruth/anaconda3/envs/dev/lib/python3.10/site-packages (from pyasn1-modules>=0.2.1->google-auth<3,>=1.6.3->tensorboard<2.16,>=2.15->tensorflow-macos==2.15.0->tensorflow) (0.4.8)\n",
      "Requirement already satisfied: oauthlib>=3.0.0 in /Users/travisruth/anaconda3/envs/dev/lib/python3.10/site-packages (from requests-oauthlib>=0.7.0->google-auth-oauthlib<2,>=0.5->tensorboard<2.16,>=2.15->tensorflow-macos==2.15.0->tensorflow) (3.2.2)\n"
     ]
    },
    {
     "data": {
      "text/html": [
       "<div>\n",
       "<style scoped>\n",
       "    .dataframe tbody tr th:only-of-type {\n",
       "        vertical-align: middle;\n",
       "    }\n",
       "\n",
       "    .dataframe tbody tr th {\n",
       "        vertical-align: top;\n",
       "    }\n",
       "\n",
       "    .dataframe thead th {\n",
       "        text-align: right;\n",
       "    }\n",
       "</style>\n",
       "<table border=\"1\" class=\"dataframe\">\n",
       "  <thead>\n",
       "    <tr style=\"text-align: right;\">\n",
       "      <th></th>\n",
       "      <th>EIN</th>\n",
       "      <th>NAME</th>\n",
       "      <th>APPLICATION_TYPE</th>\n",
       "      <th>AFFILIATION</th>\n",
       "      <th>CLASSIFICATION</th>\n",
       "      <th>USE_CASE</th>\n",
       "      <th>ORGANIZATION</th>\n",
       "      <th>STATUS</th>\n",
       "      <th>INCOME_AMT</th>\n",
       "      <th>SPECIAL_CONSIDERATIONS</th>\n",
       "      <th>ASK_AMT</th>\n",
       "      <th>IS_SUCCESSFUL</th>\n",
       "    </tr>\n",
       "  </thead>\n",
       "  <tbody>\n",
       "    <tr>\n",
       "      <th>0</th>\n",
       "      <td>10520599</td>\n",
       "      <td>BLUE KNIGHTS MOTORCYCLE CLUB</td>\n",
       "      <td>T10</td>\n",
       "      <td>Independent</td>\n",
       "      <td>C1000</td>\n",
       "      <td>ProductDev</td>\n",
       "      <td>Association</td>\n",
       "      <td>1</td>\n",
       "      <td>0</td>\n",
       "      <td>N</td>\n",
       "      <td>5000</td>\n",
       "      <td>1</td>\n",
       "    </tr>\n",
       "    <tr>\n",
       "      <th>1</th>\n",
       "      <td>10531628</td>\n",
       "      <td>AMERICAN CHESAPEAKE CLUB CHARITABLE TR</td>\n",
       "      <td>T3</td>\n",
       "      <td>Independent</td>\n",
       "      <td>C2000</td>\n",
       "      <td>Preservation</td>\n",
       "      <td>Co-operative</td>\n",
       "      <td>1</td>\n",
       "      <td>1-9999</td>\n",
       "      <td>N</td>\n",
       "      <td>108590</td>\n",
       "      <td>1</td>\n",
       "    </tr>\n",
       "    <tr>\n",
       "      <th>2</th>\n",
       "      <td>10547893</td>\n",
       "      <td>ST CLOUD PROFESSIONAL FIREFIGHTERS</td>\n",
       "      <td>T5</td>\n",
       "      <td>CompanySponsored</td>\n",
       "      <td>C3000</td>\n",
       "      <td>ProductDev</td>\n",
       "      <td>Association</td>\n",
       "      <td>1</td>\n",
       "      <td>0</td>\n",
       "      <td>N</td>\n",
       "      <td>5000</td>\n",
       "      <td>0</td>\n",
       "    </tr>\n",
       "    <tr>\n",
       "      <th>3</th>\n",
       "      <td>10553066</td>\n",
       "      <td>SOUTHSIDE ATHLETIC ASSOCIATION</td>\n",
       "      <td>T3</td>\n",
       "      <td>CompanySponsored</td>\n",
       "      <td>C2000</td>\n",
       "      <td>Preservation</td>\n",
       "      <td>Trust</td>\n",
       "      <td>1</td>\n",
       "      <td>10000-24999</td>\n",
       "      <td>N</td>\n",
       "      <td>6692</td>\n",
       "      <td>1</td>\n",
       "    </tr>\n",
       "    <tr>\n",
       "      <th>4</th>\n",
       "      <td>10556103</td>\n",
       "      <td>GENETIC RESEARCH INSTITUTE OF THE DESERT</td>\n",
       "      <td>T3</td>\n",
       "      <td>Independent</td>\n",
       "      <td>C1000</td>\n",
       "      <td>Heathcare</td>\n",
       "      <td>Trust</td>\n",
       "      <td>1</td>\n",
       "      <td>100000-499999</td>\n",
       "      <td>N</td>\n",
       "      <td>142590</td>\n",
       "      <td>1</td>\n",
       "    </tr>\n",
       "  </tbody>\n",
       "</table>\n",
       "</div>"
      ],
      "text/plain": [
       "        EIN                                      NAME APPLICATION_TYPE  \\\n",
       "0  10520599              BLUE KNIGHTS MOTORCYCLE CLUB              T10   \n",
       "1  10531628    AMERICAN CHESAPEAKE CLUB CHARITABLE TR               T3   \n",
       "2  10547893        ST CLOUD PROFESSIONAL FIREFIGHTERS               T5   \n",
       "3  10553066            SOUTHSIDE ATHLETIC ASSOCIATION               T3   \n",
       "4  10556103  GENETIC RESEARCH INSTITUTE OF THE DESERT               T3   \n",
       "\n",
       "        AFFILIATION CLASSIFICATION      USE_CASE  ORGANIZATION  STATUS  \\\n",
       "0       Independent          C1000    ProductDev   Association       1   \n",
       "1       Independent          C2000  Preservation  Co-operative       1   \n",
       "2  CompanySponsored          C3000    ProductDev   Association       1   \n",
       "3  CompanySponsored          C2000  Preservation         Trust       1   \n",
       "4       Independent          C1000     Heathcare         Trust       1   \n",
       "\n",
       "      INCOME_AMT SPECIAL_CONSIDERATIONS  ASK_AMT  IS_SUCCESSFUL  \n",
       "0              0                      N     5000              1  \n",
       "1         1-9999                      N   108590              1  \n",
       "2              0                      N     5000              0  \n",
       "3    10000-24999                      N     6692              1  \n",
       "4  100000-499999                      N   142590              1  "
      ]
     },
     "execution_count": 1,
     "metadata": {},
     "output_type": "execute_result"
    }
   ],
   "source": [
    "# Import our dependencies\n",
    "from sklearn.model_selection import train_test_split\n",
    "from sklearn.preprocessing import StandardScaler\n",
    "import pandas as pd\n",
    "!pip install tensorflow\n",
    "import tensorflow as tf\n",
    "\n",
    "#  Import and read the charity_data.csv.\n",
    "import pandas as pd\n",
    "application_df = pd.read_csv(\"https://static.bc-edx.com/data/dl-1-2/m21/lms/starter/charity_data.csv\")\n",
    "application_df.head()"
   ]
  },
  {
   "cell_type": "code",
   "execution_count": 2,
   "metadata": {
    "id": "6sr0xjIDeeS9"
   },
   "outputs": [],
   "source": [
    "from os import access\n",
    "# Drop the non-beneficial ID columns, 'EIN' and 'NAME'.\n",
    "application_df = application_df.drop([\"EIN\",'NAME'],axis=1)"
   ]
  },
  {
   "cell_type": "code",
   "execution_count": 3,
   "metadata": {
    "colab": {
     "base_uri": "https://localhost:8080/"
    },
    "id": "hmOiYkhzeeS9",
    "outputId": "96966aed-c277-4f49-b308-3dba883237d1"
   },
   "outputs": [
    {
     "data": {
      "text/plain": [
       "APPLICATION_TYPE            17\n",
       "AFFILIATION                  6\n",
       "CLASSIFICATION              71\n",
       "USE_CASE                     5\n",
       "ORGANIZATION                 4\n",
       "STATUS                       2\n",
       "INCOME_AMT                   9\n",
       "SPECIAL_CONSIDERATIONS       2\n",
       "ASK_AMT                   8747\n",
       "IS_SUCCESSFUL                2\n",
       "dtype: int64"
      ]
     },
     "execution_count": 3,
     "metadata": {},
     "output_type": "execute_result"
    }
   ],
   "source": [
    "# Determine the number of unique values in each column.\n",
    "application_df.nunique()"
   ]
  },
  {
   "cell_type": "code",
   "execution_count": 4,
   "metadata": {
    "colab": {
     "base_uri": "https://localhost:8080/"
    },
    "id": "UQytk6M6eeS9",
    "outputId": "60171c47-bbab-46b9-8f51-f517e2135d09"
   },
   "outputs": [
    {
     "data": {
      "text/plain": [
       "T3     27037\n",
       "T4      1542\n",
       "T6      1216\n",
       "T5      1173\n",
       "T19     1065\n",
       "T8       737\n",
       "T7       725\n",
       "T10      528\n",
       "T9       156\n",
       "T13       66\n",
       "T12       27\n",
       "T2        16\n",
       "T25        3\n",
       "T14        3\n",
       "T29        2\n",
       "T15        2\n",
       "T17        1\n",
       "Name: APPLICATION_TYPE, dtype: int64"
      ]
     },
     "execution_count": 4,
     "metadata": {},
     "output_type": "execute_result"
    }
   ],
   "source": [
    "# Look at APPLICATION_TYPE value counts for binning\n",
    "a_count = application_df.APPLICATION_TYPE.value_counts()\n",
    "a_count"
   ]
  },
  {
   "cell_type": "code",
   "execution_count": 5,
   "metadata": {
    "colab": {
     "base_uri": "https://localhost:8080/"
    },
    "id": "Ngn0fhq9eeS-",
    "outputId": "22268410-672a-4548-ea9e-f4836570ce57"
   },
   "outputs": [
    {
     "data": {
      "text/plain": [
       "T3       27037\n",
       "T4        1542\n",
       "T6        1216\n",
       "T5        1173\n",
       "T19       1065\n",
       "T8         737\n",
       "T7         725\n",
       "T10        528\n",
       "Other      276\n",
       "Name: APPLICATION_TYPE, dtype: int64"
      ]
     },
     "execution_count": 5,
     "metadata": {},
     "output_type": "execute_result"
    }
   ],
   "source": [
    "# Choose a cutoff value and create a list of application types to be replaced\n",
    "# use the variable name `application_types_to_replace`\n",
    "application_types_to_replace = a_count.index[a_count<528]\n",
    "\n",
    "# Replace in dataframe\n",
    "for app in application_types_to_replace:\n",
    "    application_df['APPLICATION_TYPE'] = application_df['APPLICATION_TYPE'].replace(app,\"Other\")\n",
    "\n",
    "# Check to make sure binning was successful\n",
    "application_df['APPLICATION_TYPE'].value_counts()"
   ]
  },
  {
   "cell_type": "code",
   "execution_count": 6,
   "metadata": {
    "colab": {
     "base_uri": "https://localhost:8080/"
    },
    "id": "8tIHtzqTeeS-",
    "outputId": "a1ac8a52-d243-4a33-f8b3-4dd80ecb01b5"
   },
   "outputs": [
    {
     "data": {
      "text/plain": [
       "C1000    17326\n",
       "C2000     6074\n",
       "C1200     4837\n",
       "C3000     1918\n",
       "C2100     1883\n",
       "         ...  \n",
       "C4120        1\n",
       "C8210        1\n",
       "C2561        1\n",
       "C4500        1\n",
       "C2150        1\n",
       "Name: CLASSIFICATION, Length: 71, dtype: int64"
      ]
     },
     "execution_count": 6,
     "metadata": {},
     "output_type": "execute_result"
    }
   ],
   "source": [
    "# Look at CLASSIFICATION value counts for binning\n",
    "c_count = application_df.CLASSIFICATION.value_counts()\n",
    "c_count"
   ]
  },
  {
   "cell_type": "code",
   "execution_count": 7,
   "metadata": {
    "colab": {
     "base_uri": "https://localhost:8080/"
    },
    "id": "e9KrNq48eeS_",
    "outputId": "dcc344eb-f0ff-41f9-9b4d-c39ff8a987ab"
   },
   "outputs": [
    {
     "data": {
      "text/plain": [
       "C1000    17326\n",
       "C2000     6074\n",
       "C1200     4837\n",
       "C3000     1918\n",
       "C2100     1883\n",
       "C7000      777\n",
       "C1700      287\n",
       "C4000      194\n",
       "C5000      116\n",
       "C1270      114\n",
       "C2700      104\n",
       "C2800       95\n",
       "C7100       75\n",
       "C1300       58\n",
       "C1280       50\n",
       "C1230       36\n",
       "C1400       34\n",
       "C7200       32\n",
       "C2300       32\n",
       "C1240       30\n",
       "C8000       20\n",
       "C7120       18\n",
       "C1500       16\n",
       "C1800       15\n",
       "C6000       15\n",
       "C1250       14\n",
       "C8200       11\n",
       "C1238       10\n",
       "C1278       10\n",
       "C1235        9\n",
       "C1237        9\n",
       "C7210        7\n",
       "C2400        6\n",
       "C1720        6\n",
       "C4100        6\n",
       "C1257        5\n",
       "C1600        5\n",
       "C1260        3\n",
       "C2710        3\n",
       "C0           3\n",
       "C3200        2\n",
       "C1234        2\n",
       "C1246        2\n",
       "C1267        2\n",
       "C1256        2\n",
       "Name: CLASSIFICATION, dtype: int64"
      ]
     },
     "execution_count": 7,
     "metadata": {},
     "output_type": "execute_result"
    }
   ],
   "source": [
    "# You may find it helpful to look at CLASSIFICATION value counts >1\n",
    "c_count[c_count>1]"
   ]
  },
  {
   "cell_type": "code",
   "execution_count": 8,
   "metadata": {
    "colab": {
     "base_uri": "https://localhost:8080/"
    },
    "id": "hHrCx-HglPU0",
    "outputId": "d401a18e-0e78-4849-d285-08cb548275df"
   },
   "outputs": [
    {
     "data": {
      "text/plain": [
       "C1000    17326\n",
       "C2000     6074\n",
       "C1200     4837\n",
       "Other     2261\n",
       "C3000     1918\n",
       "C2100     1883\n",
       "Name: CLASSIFICATION, dtype: int64"
      ]
     },
     "execution_count": 8,
     "metadata": {},
     "output_type": "execute_result"
    }
   ],
   "source": [
    "# Choose a cutoff value and create a list of classifications to be replaced\n",
    "# use the variable name `classifications_to_replace`\n",
    "classifications_to_replace = c_count.index[c_count<1000]\n",
    "\n",
    "# Replace in dataframe\n",
    "for cls in classifications_to_replace:\n",
    "    application_df['CLASSIFICATION'] = application_df['CLASSIFICATION'].replace(cls,\"Other\")\n",
    "\n",
    "# Check to make sure binning was successful\n",
    "application_df['CLASSIFICATION'].value_counts()"
   ]
  },
  {
   "cell_type": "code",
   "execution_count": 9,
   "metadata": {
    "colab": {
     "base_uri": "https://localhost:8080/",
     "height": 273
    },
    "id": "sl59ZlH-eeS_",
    "outputId": "ba1efcef-164f-4c1a-ac77-60758d32af5a"
   },
   "outputs": [
    {
     "data": {
      "text/html": [
       "<div>\n",
       "<style scoped>\n",
       "    .dataframe tbody tr th:only-of-type {\n",
       "        vertical-align: middle;\n",
       "    }\n",
       "\n",
       "    .dataframe tbody tr th {\n",
       "        vertical-align: top;\n",
       "    }\n",
       "\n",
       "    .dataframe thead th {\n",
       "        text-align: right;\n",
       "    }\n",
       "</style>\n",
       "<table border=\"1\" class=\"dataframe\">\n",
       "  <thead>\n",
       "    <tr style=\"text-align: right;\">\n",
       "      <th></th>\n",
       "      <th>STATUS</th>\n",
       "      <th>ASK_AMT</th>\n",
       "      <th>IS_SUCCESSFUL</th>\n",
       "      <th>APPLICATION_TYPE_Other</th>\n",
       "      <th>APPLICATION_TYPE_T10</th>\n",
       "      <th>APPLICATION_TYPE_T19</th>\n",
       "      <th>APPLICATION_TYPE_T3</th>\n",
       "      <th>APPLICATION_TYPE_T4</th>\n",
       "      <th>APPLICATION_TYPE_T5</th>\n",
       "      <th>APPLICATION_TYPE_T6</th>\n",
       "      <th>...</th>\n",
       "      <th>INCOME_AMT_1-9999</th>\n",
       "      <th>INCOME_AMT_10000-24999</th>\n",
       "      <th>INCOME_AMT_100000-499999</th>\n",
       "      <th>INCOME_AMT_10M-50M</th>\n",
       "      <th>INCOME_AMT_1M-5M</th>\n",
       "      <th>INCOME_AMT_25000-99999</th>\n",
       "      <th>INCOME_AMT_50M+</th>\n",
       "      <th>INCOME_AMT_5M-10M</th>\n",
       "      <th>SPECIAL_CONSIDERATIONS_N</th>\n",
       "      <th>SPECIAL_CONSIDERATIONS_Y</th>\n",
       "    </tr>\n",
       "  </thead>\n",
       "  <tbody>\n",
       "    <tr>\n",
       "      <th>0</th>\n",
       "      <td>1</td>\n",
       "      <td>5000</td>\n",
       "      <td>1</td>\n",
       "      <td>0</td>\n",
       "      <td>1</td>\n",
       "      <td>0</td>\n",
       "      <td>0</td>\n",
       "      <td>0</td>\n",
       "      <td>0</td>\n",
       "      <td>0</td>\n",
       "      <td>...</td>\n",
       "      <td>0</td>\n",
       "      <td>0</td>\n",
       "      <td>0</td>\n",
       "      <td>0</td>\n",
       "      <td>0</td>\n",
       "      <td>0</td>\n",
       "      <td>0</td>\n",
       "      <td>0</td>\n",
       "      <td>1</td>\n",
       "      <td>0</td>\n",
       "    </tr>\n",
       "    <tr>\n",
       "      <th>1</th>\n",
       "      <td>1</td>\n",
       "      <td>108590</td>\n",
       "      <td>1</td>\n",
       "      <td>0</td>\n",
       "      <td>0</td>\n",
       "      <td>0</td>\n",
       "      <td>1</td>\n",
       "      <td>0</td>\n",
       "      <td>0</td>\n",
       "      <td>0</td>\n",
       "      <td>...</td>\n",
       "      <td>1</td>\n",
       "      <td>0</td>\n",
       "      <td>0</td>\n",
       "      <td>0</td>\n",
       "      <td>0</td>\n",
       "      <td>0</td>\n",
       "      <td>0</td>\n",
       "      <td>0</td>\n",
       "      <td>1</td>\n",
       "      <td>0</td>\n",
       "    </tr>\n",
       "    <tr>\n",
       "      <th>2</th>\n",
       "      <td>1</td>\n",
       "      <td>5000</td>\n",
       "      <td>0</td>\n",
       "      <td>0</td>\n",
       "      <td>0</td>\n",
       "      <td>0</td>\n",
       "      <td>0</td>\n",
       "      <td>0</td>\n",
       "      <td>1</td>\n",
       "      <td>0</td>\n",
       "      <td>...</td>\n",
       "      <td>0</td>\n",
       "      <td>0</td>\n",
       "      <td>0</td>\n",
       "      <td>0</td>\n",
       "      <td>0</td>\n",
       "      <td>0</td>\n",
       "      <td>0</td>\n",
       "      <td>0</td>\n",
       "      <td>1</td>\n",
       "      <td>0</td>\n",
       "    </tr>\n",
       "    <tr>\n",
       "      <th>3</th>\n",
       "      <td>1</td>\n",
       "      <td>6692</td>\n",
       "      <td>1</td>\n",
       "      <td>0</td>\n",
       "      <td>0</td>\n",
       "      <td>0</td>\n",
       "      <td>1</td>\n",
       "      <td>0</td>\n",
       "      <td>0</td>\n",
       "      <td>0</td>\n",
       "      <td>...</td>\n",
       "      <td>0</td>\n",
       "      <td>1</td>\n",
       "      <td>0</td>\n",
       "      <td>0</td>\n",
       "      <td>0</td>\n",
       "      <td>0</td>\n",
       "      <td>0</td>\n",
       "      <td>0</td>\n",
       "      <td>1</td>\n",
       "      <td>0</td>\n",
       "    </tr>\n",
       "    <tr>\n",
       "      <th>4</th>\n",
       "      <td>1</td>\n",
       "      <td>142590</td>\n",
       "      <td>1</td>\n",
       "      <td>0</td>\n",
       "      <td>0</td>\n",
       "      <td>0</td>\n",
       "      <td>1</td>\n",
       "      <td>0</td>\n",
       "      <td>0</td>\n",
       "      <td>0</td>\n",
       "      <td>...</td>\n",
       "      <td>0</td>\n",
       "      <td>0</td>\n",
       "      <td>1</td>\n",
       "      <td>0</td>\n",
       "      <td>0</td>\n",
       "      <td>0</td>\n",
       "      <td>0</td>\n",
       "      <td>0</td>\n",
       "      <td>1</td>\n",
       "      <td>0</td>\n",
       "    </tr>\n",
       "  </tbody>\n",
       "</table>\n",
       "<p>5 rows × 44 columns</p>\n",
       "</div>"
      ],
      "text/plain": [
       "   STATUS  ASK_AMT  IS_SUCCESSFUL  APPLICATION_TYPE_Other  \\\n",
       "0       1     5000              1                       0   \n",
       "1       1   108590              1                       0   \n",
       "2       1     5000              0                       0   \n",
       "3       1     6692              1                       0   \n",
       "4       1   142590              1                       0   \n",
       "\n",
       "   APPLICATION_TYPE_T10  APPLICATION_TYPE_T19  APPLICATION_TYPE_T3  \\\n",
       "0                     1                     0                    0   \n",
       "1                     0                     0                    1   \n",
       "2                     0                     0                    0   \n",
       "3                     0                     0                    1   \n",
       "4                     0                     0                    1   \n",
       "\n",
       "   APPLICATION_TYPE_T4  APPLICATION_TYPE_T5  APPLICATION_TYPE_T6  ...  \\\n",
       "0                    0                    0                    0  ...   \n",
       "1                    0                    0                    0  ...   \n",
       "2                    0                    1                    0  ...   \n",
       "3                    0                    0                    0  ...   \n",
       "4                    0                    0                    0  ...   \n",
       "\n",
       "   INCOME_AMT_1-9999  INCOME_AMT_10000-24999  INCOME_AMT_100000-499999  \\\n",
       "0                  0                       0                         0   \n",
       "1                  1                       0                         0   \n",
       "2                  0                       0                         0   \n",
       "3                  0                       1                         0   \n",
       "4                  0                       0                         1   \n",
       "\n",
       "   INCOME_AMT_10M-50M  INCOME_AMT_1M-5M  INCOME_AMT_25000-99999  \\\n",
       "0                   0                 0                       0   \n",
       "1                   0                 0                       0   \n",
       "2                   0                 0                       0   \n",
       "3                   0                 0                       0   \n",
       "4                   0                 0                       0   \n",
       "\n",
       "   INCOME_AMT_50M+  INCOME_AMT_5M-10M  SPECIAL_CONSIDERATIONS_N  \\\n",
       "0                0                  0                         1   \n",
       "1                0                  0                         1   \n",
       "2                0                  0                         1   \n",
       "3                0                  0                         1   \n",
       "4                0                  0                         1   \n",
       "\n",
       "   SPECIAL_CONSIDERATIONS_Y  \n",
       "0                         0  \n",
       "1                         0  \n",
       "2                         0  \n",
       "3                         0  \n",
       "4                         0  \n",
       "\n",
       "[5 rows x 44 columns]"
      ]
     },
     "execution_count": 9,
     "metadata": {},
     "output_type": "execute_result"
    }
   ],
   "source": [
    "# Convert categorical data to numeric with `pd.get_dummies`\n",
    "df = pd.get_dummies(application_df)\n",
    "df.head()"
   ]
  },
  {
   "cell_type": "code",
   "execution_count": 10,
   "metadata": {
    "id": "v52Rj4UseeS_"
   },
   "outputs": [],
   "source": [
    "# Split our preprocessed data into our features and target arrays\n",
    "y=df.pop('IS_SUCCESSFUL')\n",
    "X=df\n",
    "\n",
    "# Split the preprocessed data into a training and testing dataset\n",
    "X_train, X_test, y_train, y_test = train_test_split(X,y,random_state=42)"
   ]
  },
  {
   "cell_type": "code",
   "execution_count": 11,
   "metadata": {
    "id": "6i0poWMceeTA"
   },
   "outputs": [],
   "source": [
    "# Create a StandardScaler instances\n",
    "scaler = StandardScaler()\n",
    "\n",
    "# Fit the StandardScaler\n",
    "X_scaler = scaler.fit(X_train)\n",
    "\n",
    "# Scale the data\n",
    "X_train_scaled = X_scaler.transform(X_train)\n",
    "X_test_scaled = X_scaler.transform(X_test)"
   ]
  },
  {
   "cell_type": "markdown",
   "metadata": {
    "id": "7EG7XDMceeTA"
   },
   "source": [
    "## Compile, Train and Evaluate the Model"
   ]
  },
  {
   "cell_type": "code",
   "execution_count": 12,
   "metadata": {
    "colab": {
     "base_uri": "https://localhost:8080/"
    },
    "id": "FyxmGzkoJEF1",
    "outputId": "80d0295d-884d-4cc7-bfba-4b189713acfb"
   },
   "outputs": [
    {
     "name": "stdout",
     "output_type": "stream",
     "text": [
      "Model: \"sequential\"\n",
      "_________________________________________________________________\n",
      " Layer (type)                Output Shape              Param #   \n",
      "=================================================================\n",
      " dense (Dense)               (None, 80)                3520      \n",
      "                                                                 \n",
      " dense_1 (Dense)             (None, 40)                3240      \n",
      "                                                                 \n",
      " dense_2 (Dense)             (None, 1)                 41        \n",
      "                                                                 \n",
      "=================================================================\n",
      "Total params: 6801 (26.57 KB)\n",
      "Trainable params: 6801 (26.57 KB)\n",
      "Non-trainable params: 0 (0.00 Byte)\n",
      "_________________________________________________________________\n"
     ]
    }
   ],
   "source": [
    "# Define the model - deep neural net, i.e., the number of input features and hidden nodes for each layer.\n",
    "\n",
    "nn = tf.keras.models.Sequential()\n",
    "nn.add(tf.keras.layers.InputLayer(df.shape[1]))\n",
    "# First hidden layer\n",
    "nn.add(tf.keras.layers.Dense(80))\n",
    "\n",
    "# Second hidden layer\n",
    "nn.add(tf.keras.layers.Dense(40))\n",
    "\n",
    "# Output layer\n",
    "nn.add(tf.keras.layers.Dense(1))\n",
    "\n",
    "# Check the structure of the model\n",
    "nn.build()\n",
    "nn.summary()"
   ]
  },
  {
   "cell_type": "code",
   "execution_count": 13,
   "metadata": {
    "id": "YupulW2GeeTA"
   },
   "outputs": [],
   "source": [
    "# Compile the model\n",
    "nn.compile(loss= \"mean_squared_error\", optimizer = \"adam\", metrics = \"accuracy\")"
   ]
  },
  {
   "cell_type": "code",
   "execution_count": 14,
   "metadata": {
    "colab": {
     "base_uri": "https://localhost:8080/"
    },
    "id": "pZpGDsmtLjf8",
    "outputId": "54cfa908-7a35-43a5-e8e1-a9f32c1e366e"
   },
   "outputs": [
    {
     "name": "stdout",
     "output_type": "stream",
     "text": [
      "Epoch 1/100\n",
      "804/804 [==============================] - 1s 538us/step - loss: 0.7757 - accuracy: 0.6792\n",
      "Epoch 2/100\n",
      "804/804 [==============================] - 0s 445us/step - loss: 0.3854 - accuracy: 0.7117\n",
      "Epoch 3/100\n",
      "804/804 [==============================] - 0s 444us/step - loss: 0.2197 - accuracy: 0.7152\n",
      "Epoch 4/100\n",
      "804/804 [==============================] - 0s 448us/step - loss: 0.2418 - accuracy: 0.7149\n",
      "Epoch 5/100\n",
      "804/804 [==============================] - 0s 446us/step - loss: 0.3109 - accuracy: 0.7096\n",
      "Epoch 6/100\n",
      "804/804 [==============================] - 0s 448us/step - loss: 0.2764 - accuracy: 0.7145\n",
      "Epoch 7/100\n",
      "804/804 [==============================] - 0s 447us/step - loss: 0.1999 - accuracy: 0.7164\n",
      "Epoch 8/100\n",
      "804/804 [==============================] - 0s 446us/step - loss: 0.2168 - accuracy: 0.7137\n",
      "Epoch 9/100\n",
      "804/804 [==============================] - 0s 447us/step - loss: 0.2129 - accuracy: 0.7143\n",
      "Epoch 10/100\n",
      "804/804 [==============================] - 0s 444us/step - loss: 0.2060 - accuracy: 0.7148\n",
      "Epoch 11/100\n",
      "804/804 [==============================] - 0s 448us/step - loss: 0.2028 - accuracy: 0.7164\n",
      "Epoch 12/100\n",
      "804/804 [==============================] - 0s 442us/step - loss: 0.2073 - accuracy: 0.7153\n",
      "Epoch 13/100\n",
      "804/804 [==============================] - 0s 444us/step - loss: 0.2044 - accuracy: 0.7158\n",
      "Epoch 14/100\n",
      "804/804 [==============================] - 0s 445us/step - loss: 0.2017 - accuracy: 0.7164\n",
      "Epoch 15/100\n",
      "804/804 [==============================] - 0s 448us/step - loss: 0.2010 - accuracy: 0.7164\n",
      "Epoch 16/100\n",
      "804/804 [==============================] - 0s 464us/step - loss: 0.1993 - accuracy: 0.7202\n",
      "Epoch 17/100\n",
      "804/804 [==============================] - 0s 464us/step - loss: 0.1996 - accuracy: 0.7184\n",
      "Epoch 18/100\n",
      "804/804 [==============================] - 0s 456us/step - loss: 0.1989 - accuracy: 0.7188\n",
      "Epoch 19/100\n",
      "804/804 [==============================] - 0s 452us/step - loss: 0.1985 - accuracy: 0.7188\n",
      "Epoch 20/100\n",
      "804/804 [==============================] - 0s 454us/step - loss: 0.1985 - accuracy: 0.7179\n",
      "Epoch 21/100\n",
      "804/804 [==============================] - 0s 451us/step - loss: 0.1983 - accuracy: 0.7181\n",
      "Epoch 22/100\n",
      "804/804 [==============================] - 0s 456us/step - loss: 0.1983 - accuracy: 0.7178\n",
      "Epoch 23/100\n",
      "804/804 [==============================] - 0s 457us/step - loss: 0.1983 - accuracy: 0.7198\n",
      "Epoch 24/100\n",
      "804/804 [==============================] - 0s 452us/step - loss: 0.1979 - accuracy: 0.7199\n",
      "Epoch 25/100\n",
      "804/804 [==============================] - 0s 455us/step - loss: 0.1979 - accuracy: 0.7197\n",
      "Epoch 26/100\n",
      "804/804 [==============================] - 0s 455us/step - loss: 0.1977 - accuracy: 0.7208\n",
      "Epoch 27/100\n",
      "804/804 [==============================] - 0s 452us/step - loss: 0.1976 - accuracy: 0.7202\n",
      "Epoch 28/100\n",
      "804/804 [==============================] - 0s 450us/step - loss: 0.1975 - accuracy: 0.7196\n",
      "Epoch 29/100\n",
      "804/804 [==============================] - 0s 444us/step - loss: 0.1975 - accuracy: 0.7200\n",
      "Epoch 30/100\n",
      "804/804 [==============================] - 0s 444us/step - loss: 0.1975 - accuracy: 0.7203\n",
      "Epoch 31/100\n",
      "804/804 [==============================] - 0s 442us/step - loss: 0.1974 - accuracy: 0.7207\n",
      "Epoch 32/100\n",
      "804/804 [==============================] - 0s 445us/step - loss: 0.1974 - accuracy: 0.7200\n",
      "Epoch 33/100\n",
      "804/804 [==============================] - 0s 444us/step - loss: 0.1972 - accuracy: 0.7210\n",
      "Epoch 34/100\n",
      "804/804 [==============================] - 0s 440us/step - loss: 0.1973 - accuracy: 0.7202\n",
      "Epoch 35/100\n",
      "804/804 [==============================] - 0s 446us/step - loss: 0.1972 - accuracy: 0.7210\n",
      "Epoch 36/100\n",
      "804/804 [==============================] - 0s 448us/step - loss: 0.1971 - accuracy: 0.7206\n",
      "Epoch 37/100\n",
      "804/804 [==============================] - 0s 442us/step - loss: 0.1973 - accuracy: 0.7212\n",
      "Epoch 38/100\n",
      "804/804 [==============================] - 0s 440us/step - loss: 0.1972 - accuracy: 0.7212\n",
      "Epoch 39/100\n",
      "804/804 [==============================] - 0s 447us/step - loss: 0.1970 - accuracy: 0.7197\n",
      "Epoch 40/100\n",
      "804/804 [==============================] - 0s 449us/step - loss: 0.1970 - accuracy: 0.7209\n",
      "Epoch 41/100\n",
      "804/804 [==============================] - 0s 450us/step - loss: 0.1972 - accuracy: 0.7217\n",
      "Epoch 42/100\n",
      "804/804 [==============================] - 0s 446us/step - loss: 0.1972 - accuracy: 0.7201\n",
      "Epoch 43/100\n",
      "804/804 [==============================] - 0s 450us/step - loss: 0.1969 - accuracy: 0.7224\n",
      "Epoch 44/100\n",
      "804/804 [==============================] - 0s 448us/step - loss: 0.1969 - accuracy: 0.7198\n",
      "Epoch 45/100\n",
      "804/804 [==============================] - 0s 446us/step - loss: 0.1970 - accuracy: 0.7213\n",
      "Epoch 46/100\n",
      "804/804 [==============================] - 0s 451us/step - loss: 0.1970 - accuracy: 0.7218\n",
      "Epoch 47/100\n",
      "804/804 [==============================] - 0s 450us/step - loss: 0.1969 - accuracy: 0.7215\n",
      "Epoch 48/100\n",
      "804/804 [==============================] - 0s 448us/step - loss: 0.1969 - accuracy: 0.7213\n",
      "Epoch 49/100\n",
      "804/804 [==============================] - 0s 445us/step - loss: 0.1970 - accuracy: 0.7210\n",
      "Epoch 50/100\n",
      "804/804 [==============================] - 0s 452us/step - loss: 0.1970 - accuracy: 0.7212\n",
      "Epoch 51/100\n",
      "804/804 [==============================] - 0s 449us/step - loss: 0.1968 - accuracy: 0.7211\n",
      "Epoch 52/100\n",
      "804/804 [==============================] - 0s 451us/step - loss: 0.1971 - accuracy: 0.7212\n",
      "Epoch 53/100\n",
      "804/804 [==============================] - 0s 445us/step - loss: 0.1970 - accuracy: 0.7209\n",
      "Epoch 54/100\n",
      "804/804 [==============================] - 0s 450us/step - loss: 0.1969 - accuracy: 0.7220\n",
      "Epoch 55/100\n",
      "804/804 [==============================] - 0s 447us/step - loss: 0.1969 - accuracy: 0.7203\n",
      "Epoch 56/100\n",
      "804/804 [==============================] - 0s 448us/step - loss: 0.1968 - accuracy: 0.7208\n",
      "Epoch 57/100\n",
      "804/804 [==============================] - 0s 451us/step - loss: 0.1969 - accuracy: 0.7220\n",
      "Epoch 58/100\n",
      "804/804 [==============================] - 0s 452us/step - loss: 0.1969 - accuracy: 0.7207\n",
      "Epoch 59/100\n",
      "804/804 [==============================] - 0s 449us/step - loss: 0.1968 - accuracy: 0.7209\n",
      "Epoch 60/100\n",
      "804/804 [==============================] - 0s 450us/step - loss: 0.1968 - accuracy: 0.7225\n",
      "Epoch 61/100\n",
      "804/804 [==============================] - 0s 450us/step - loss: 0.1968 - accuracy: 0.7205\n",
      "Epoch 62/100\n",
      "804/804 [==============================] - 0s 449us/step - loss: 0.1967 - accuracy: 0.7216\n",
      "Epoch 63/100\n",
      "804/804 [==============================] - 0s 449us/step - loss: 0.1969 - accuracy: 0.7222\n",
      "Epoch 64/100\n",
      "804/804 [==============================] - 0s 449us/step - loss: 0.1968 - accuracy: 0.7217\n",
      "Epoch 65/100\n",
      "804/804 [==============================] - 0s 447us/step - loss: 0.1968 - accuracy: 0.7218\n",
      "Epoch 66/100\n",
      "804/804 [==============================] - 0s 446us/step - loss: 0.1968 - accuracy: 0.7229\n",
      "Epoch 67/100\n",
      "804/804 [==============================] - 0s 456us/step - loss: 0.1967 - accuracy: 0.7207\n",
      "Epoch 68/100\n",
      "804/804 [==============================] - 0s 446us/step - loss: 0.1969 - accuracy: 0.7215\n",
      "Epoch 69/100\n",
      "804/804 [==============================] - 0s 451us/step - loss: 0.1967 - accuracy: 0.7206\n",
      "Epoch 70/100\n",
      "804/804 [==============================] - 0s 444us/step - loss: 0.1967 - accuracy: 0.7215\n",
      "Epoch 71/100\n",
      "804/804 [==============================] - 0s 444us/step - loss: 0.1967 - accuracy: 0.7219\n",
      "Epoch 72/100\n",
      "804/804 [==============================] - 0s 446us/step - loss: 0.1966 - accuracy: 0.7202\n",
      "Epoch 73/100\n",
      "804/804 [==============================] - 0s 451us/step - loss: 0.1966 - accuracy: 0.7222\n",
      "Epoch 74/100\n",
      "804/804 [==============================] - 0s 446us/step - loss: 0.1967 - accuracy: 0.7213\n",
      "Epoch 75/100\n",
      "804/804 [==============================] - 0s 448us/step - loss: 0.1967 - accuracy: 0.7219\n",
      "Epoch 76/100\n",
      "804/804 [==============================] - 0s 448us/step - loss: 0.1967 - accuracy: 0.7217\n",
      "Epoch 77/100\n",
      "804/804 [==============================] - 0s 446us/step - loss: 0.1967 - accuracy: 0.7213\n",
      "Epoch 78/100\n",
      "804/804 [==============================] - 0s 451us/step - loss: 0.1967 - accuracy: 0.7211\n",
      "Epoch 79/100\n"
     ]
    },
    {
     "name": "stdout",
     "output_type": "stream",
     "text": [
      "804/804 [==============================] - 0s 447us/step - loss: 0.1965 - accuracy: 0.7206\n",
      "Epoch 80/100\n",
      "804/804 [==============================] - 0s 444us/step - loss: 0.1966 - accuracy: 0.7222\n",
      "Epoch 81/100\n",
      "804/804 [==============================] - 0s 441us/step - loss: 0.1967 - accuracy: 0.7218\n",
      "Epoch 82/100\n",
      "804/804 [==============================] - 0s 445us/step - loss: 0.1968 - accuracy: 0.7220\n",
      "Epoch 83/100\n",
      "804/804 [==============================] - 0s 442us/step - loss: 0.1966 - accuracy: 0.7223\n",
      "Epoch 84/100\n",
      "804/804 [==============================] - 0s 443us/step - loss: 0.1968 - accuracy: 0.7207\n",
      "Epoch 85/100\n",
      "804/804 [==============================] - 0s 447us/step - loss: 0.1967 - accuracy: 0.7214\n",
      "Epoch 86/100\n",
      "804/804 [==============================] - 0s 444us/step - loss: 0.1966 - accuracy: 0.7221\n",
      "Epoch 87/100\n",
      "804/804 [==============================] - 0s 444us/step - loss: 0.1967 - accuracy: 0.7212\n",
      "Epoch 88/100\n",
      "804/804 [==============================] - 0s 444us/step - loss: 0.1968 - accuracy: 0.7222\n",
      "Epoch 89/100\n",
      "804/804 [==============================] - 0s 447us/step - loss: 0.1966 - accuracy: 0.7214\n",
      "Epoch 90/100\n",
      "804/804 [==============================] - 0s 445us/step - loss: 0.1966 - accuracy: 0.7221\n",
      "Epoch 91/100\n",
      "804/804 [==============================] - 0s 437us/step - loss: 0.1966 - accuracy: 0.7220\n",
      "Epoch 92/100\n",
      "804/804 [==============================] - 0s 435us/step - loss: 0.1967 - accuracy: 0.7219\n",
      "Epoch 93/100\n",
      "804/804 [==============================] - 0s 442us/step - loss: 0.1967 - accuracy: 0.7229\n",
      "Epoch 94/100\n",
      "804/804 [==============================] - 0s 441us/step - loss: 0.1965 - accuracy: 0.7219\n",
      "Epoch 95/100\n",
      "804/804 [==============================] - 0s 447us/step - loss: 0.1968 - accuracy: 0.7222\n",
      "Epoch 96/100\n",
      "804/804 [==============================] - 0s 445us/step - loss: 0.1966 - accuracy: 0.7216\n",
      "Epoch 97/100\n",
      "804/804 [==============================] - 0s 444us/step - loss: 0.1966 - accuracy: 0.7218\n",
      "Epoch 98/100\n",
      "804/804 [==============================] - 0s 439us/step - loss: 0.1967 - accuracy: 0.7221\n",
      "Epoch 99/100\n",
      "804/804 [==============================] - 0s 440us/step - loss: 0.1967 - accuracy: 0.7227\n",
      "Epoch 100/100\n",
      "804/804 [==============================] - 0s 435us/step - loss: 0.1966 - accuracy: 0.7213\n"
     ]
    },
    {
     "data": {
      "text/plain": [
       "<keras.src.callbacks.History at 0x28cb6ffa0>"
      ]
     },
     "execution_count": 14,
     "metadata": {},
     "output_type": "execute_result"
    }
   ],
   "source": [
    "# Train the model\n",
    "nn.fit(X_train_scaled, y_train, epochs=100)"
   ]
  },
  {
   "cell_type": "code",
   "execution_count": 15,
   "metadata": {
    "colab": {
     "base_uri": "https://localhost:8080/"
    },
    "id": "tl97lZQteeTA",
    "outputId": "9ade67dd-3c3e-405c-8890-583fade4299f"
   },
   "outputs": [
    {
     "name": "stdout",
     "output_type": "stream",
     "text": [
      "268/268 - 0s - loss: 0.1981 - accuracy: 0.7173 - 106ms/epoch - 394us/step\n",
      "Loss: 0.19805988669395447, Accuracy: 0.7173177599906921\n"
     ]
    }
   ],
   "source": [
    "# Evaluate the model using the test data\n",
    "model_loss, model_accuracy = nn.evaluate(X_test_scaled,y_test,verbose=2)\n",
    "print(f\"Loss: {model_loss}, Accuracy: {model_accuracy}\")"
   ]
  },
  {
   "cell_type": "code",
   "execution_count": 16,
   "metadata": {
    "id": "IxuIJC6ueeTA"
   },
   "outputs": [
    {
     "name": "stderr",
     "output_type": "stream",
     "text": [
      "/Users/travisruth/anaconda3/envs/dev/lib/python3.10/site-packages/keras/src/engine/training.py:3103: UserWarning: You are saving your model as an HDF5 file via `model.save()`. This file format is considered legacy. We recommend using instead the native Keras format, e.g. `model.save('my_model.keras')`.\n",
      "  saving_api.save_model(\n"
     ]
    }
   ],
   "source": [
    "# Export our model to HDF5 file\n",
    "nn.save(\"1st_AlphabetSoupCharity_Optimization.h5\")"
   ]
  },
  {
   "cell_type": "code",
   "execution_count": null,
   "metadata": {},
   "outputs": [],
   "source": []
  }
 ],
 "metadata": {
  "colab": {
   "provenance": []
  },
  "kernelspec": {
   "display_name": "Python 3 (ipykernel)",
   "language": "python",
   "name": "python3"
  },
  "language_info": {
   "codemirror_mode": {
    "name": "ipython",
    "version": 3
   },
   "file_extension": ".py",
   "mimetype": "text/x-python",
   "name": "python",
   "nbconvert_exporter": "python",
   "pygments_lexer": "ipython3",
   "version": "3.10.12"
  },
  "vscode": {
   "interpreter": {
    "hash": "31f2aee4e71d21fbe5cf8b01ff0e069b9275f58929596ceb00d14d90e3e16cd6"
   }
  }
 },
 "nbformat": 4,
 "nbformat_minor": 1
}
